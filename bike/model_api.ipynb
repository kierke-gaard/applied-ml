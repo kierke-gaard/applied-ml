{
 "cells": [
  {
   "cell_type": "markdown",
   "metadata": {},
   "source": [
    "# Model API"
   ]
  },
  {
   "cell_type": "code",
   "execution_count": 3,
   "metadata": {},
   "outputs": [],
   "source": [
    "\"\"\"\n",
    "API for the bike rentals prediction model.\n",
    "\"\"\"\n",
    "\n",
    "import sklearn as sl\n",
    "from sklearn.ensemble import GradientBoostingRegressor\n",
    "from sklearn.utils import shuffle\n",
    "from sklearn.model_selection import cross_val_score\n",
    "import pandas as pd\n",
    "import warnings\n",
    "\n",
    "\n",
    "# MODEL META SPECIFICATION ====================================\n",
    "# Hardcoded for now, should be loaded from model persistency\n",
    "\n",
    "model_class = GradientBoostingRegressor(\n",
    "                n_estimators = 150,\n",
    "                max_depth = 7)\n",
    "\n",
    "attributes = {'features': ['season', 'yr', 'mnth', 'hr', 'weekday', 'workingday',\n",
    "                         'weathersit', 'temp', 'atemp', 'hum', 'windspeed'],\n",
    "              'target': 'cnt'}\n",
    "\n",
    "assessment = {'n_cv': 2,\n",
    "              'min_avg_abs_err': 50}\n",
    "\n",
    "# =============================================================\n",
    "\n",
    "\n",
    "model_in_charge = None\n",
    "\n",
    "\n",
    "def _model_class_assessment(X, Y):\n",
    "    scores = cross_val_score(model_class, X, Y,\n",
    "                            cv=assessment['n_cv'],\n",
    "                            scoring= 'neg_mean_absolute_error')\n",
    "    avg_cv_error = abs(scores.mean())\n",
    "    if avg_cv_error > assessment['min_avg_abs_err']: \n",
    "        warnings.warn(\"Model assessment not passed. Prediction error inacceptable.\")\n",
    "    return avg_cv_error\n",
    "\n",
    "\n",
    "\n",
    "# EXPOSED API ================================================\n",
    "\n",
    "def calibrate_model(data_csv_file):\n",
    "    \"\"\"Returns a model calibrated on the provided csv file. The model will be of the type model_class. It is checked whether the model class is still suitable for the data.\"\"\"\n",
    "    data = pd.read_csv(data_csv_file)\n",
    "    X, Y = shuffle(data[attributes['features']].values,\n",
    "                           data[attributes['target']].values)\n",
    "   \n",
    "    avg_cv_error = _model_class_assessment(X, Y)\n",
    "    model = model_class.fit(X,Y) \n",
    "    print(\"Model successful calibrated with an avg absolute error of\", avg_cv_error)\n",
    "    return model\n",
    "\n",
    "\n",
    "def set_model(model) -> None:\n",
    "    \"\"\"Sets the model to be in charge after a sanity check first.\"\"\"\n",
    "    #if formal_sanity_check():\n",
    "    global model_in_charge\n",
    "    model_in_charge = model\n",
    "    \n",
    "\n",
    "def apply_model(data_csv_file):\n",
    "    \"\"\"Returns predictions of the model in charge onto the provided data.\"\"\"\n",
    "    X = pd.read_csv(data_csv_file)[attributes['features']].values\n",
    "    Y_predicted = model_in_charge.predict(X)\n",
    "    return Y_predicted"
   ]
  },
  {
   "cell_type": "markdown",
   "metadata": {},
   "source": [
    "## Sample of Usage"
   ]
  },
  {
   "cell_type": "code",
   "execution_count": 2,
   "metadata": {},
   "outputs": [
    {
     "name": "stdout",
     "output_type": "stream",
     "text": [
      "Model successful calibrated with an avg absolute error of 25.84788458786423\n",
      "\n",
      "The following model in currently in charge: GradientBoostingRegressor(alpha=0.9, criterion='friedman_mse', init=None,\n",
      "             learning_rate=0.1, loss='ls', max_depth=7, max_features=None,\n",
      "             max_leaf_nodes=None, min_impurity_decrease=0.0,\n",
      "             min_impurity_split=None, min_samples_leaf=1,\n",
      "             min_samples_split=2, min_weight_fraction_leaf=0.0,\n",
      "             n_estimators=150, presort='auto', random_state=None,\n",
      "             subsample=1.0, verbose=0, warm_start=False)\n"
     ]
    },
    {
     "data": {
      "text/plain": [
       "array([26.56119772, 20.85544789,  7.26543453,  1.29762827, -4.89840759,\n",
       "        1.32193112, -5.32916457,  8.80788073, 45.1557695 ])"
      ]
     },
     "execution_count": 2,
     "metadata": {},
     "output_type": "execute_result"
    }
   ],
   "source": [
    "test_csv = 'c:\\\\dev\\\\bike\\\\data\\\\hour.csv'\n",
    "model = calibrate_model(test_csv)\n",
    "set_model(model)\n",
    "print(\"\\nThe following model in currently in charge:\",model_in_charge)\n",
    "apply_model(test_csv)[1:10]"
   ]
  }
 ],
 "metadata": {
  "kernelspec": {
   "display_name": "Python 3",
   "language": "python",
   "name": "python3"
  },
  "language_info": {
   "codemirror_mode": {
    "name": "ipython",
    "version": 3
   },
   "file_extension": ".py",
   "mimetype": "text/x-python",
   "name": "python",
   "nbconvert_exporter": "python",
   "pygments_lexer": "ipython3",
   "version": "3.7.0"
  }
 },
 "nbformat": 4,
 "nbformat_minor": 2
}
