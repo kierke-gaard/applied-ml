{
 "cells": [
  {
   "cell_type": "markdown",
   "metadata": {},
   "source": [
    "# Who wrote this? A Study for Authorship Attribution\n",
    "\n",
    "\"I ought to be thy Adam, but I am rather the fallen angel.\"\n",
    "\n",
    "\"Nothing is so painful to the human mind as a great and sudden change.\"\n",
    "\n",
    "\"It is the nature of truth in general, as of some ores in particular, to be richest when most superficial.\"\n",
    "\n",
    "\"The oldest and strongest emotion of mankind is fear, and the oldest and strongest kind of fear is fear of the unknown.\"\n",
    "\n",
    "![alt text](img/shelley.jpg) ![alt text](img/poe.png) ![alt text](img/lovecraft.jpg)\n",
    "\n",
    "Edgar Allan Poe, Mary Shelley, Howard Phillips Lovecraft\n",
    "\n",
    "**Objective:**\n",
    "Identify the writer of a sentence\n",
    "\n",
    "**Data:**\n",
    "For each writer a list of sentences from works of e.g. like Frankenstein, The Unparalleled Adventure of Hans Pfaall, The Call of Cthulhu\n",
    "\n",
    "# Data Exploration and Preprocessing"
   ]
  },
  {
   "cell_type": "code",
   "execution_count": 141,
   "metadata": {},
   "outputs": [],
   "source": [
    "%matplotlib inline\n",
    "import pandas as pd\n",
    "import numpy as np\n",
    "import matplotlib.pyplot as plt\n",
    "import seaborn as sb\n",
    "from os import path\n",
    "from nltk.stem import WordNetLemmatizer\n",
    "from functools import reduce, partial\n",
    "from itertools import groupby\n",
    "import nltk, operator, warnings, pprint\n",
    "warnings.filterwarnings(action='ignore')\n",
    "\n",
    "# Utilities\n",
    "identity = lambda x: x\n",
    "first = lambda x: x[0]\n",
    "second = lambda x: x[1]\n",
    "\n",
    "def compose(*functions):\n",
    "    \"\"\"Returns a function as composition of fuctions: f,g,..,h -> f°g°..°h\"\"\"\n",
    "    return reduce(lambda f, g: lambda x: f(g(x)),\n",
    "                            functions,\n",
    "                            identity)\n",
    "\n",
    "# Return container objects instead of iterators\n",
    "mapl = lambda f,xs: list(map(f,xs))\n",
    "reversedl = compose(list, reversed)\n",
    "rangel = compose(list, range)\n",
    "filterl = lambda f,xs: list(filter(f,xs))"
   ]
  },
  {
   "cell_type": "markdown",
   "metadata": {},
   "source": [
    "## Tokenization and Provisions"
   ]
  },
  {
   "cell_type": "code",
   "execution_count": 2,
   "metadata": {},
   "outputs": [
    {
     "data": {
      "text/html": [
       "<div>\n",
       "<style scoped>\n",
       "    .dataframe tbody tr th:only-of-type {\n",
       "        vertical-align: middle;\n",
       "    }\n",
       "\n",
       "    .dataframe tbody tr th {\n",
       "        vertical-align: top;\n",
       "    }\n",
       "\n",
       "    .dataframe thead th {\n",
       "        text-align: right;\n",
       "    }\n",
       "</style>\n",
       "<table border=\"1\" class=\"dataframe\">\n",
       "  <thead>\n",
       "    <tr style=\"text-align: right;\">\n",
       "      <th></th>\n",
       "      <th>id</th>\n",
       "      <th>text</th>\n",
       "      <th>author</th>\n",
       "      <th>tokens</th>\n",
       "    </tr>\n",
       "  </thead>\n",
       "  <tbody>\n",
       "    <tr>\n",
       "      <th>0</th>\n",
       "      <td>id26305</td>\n",
       "      <td>This process, however, afforded me no means of...</td>\n",
       "      <td>EAP</td>\n",
       "      <td>[This, process, ,, however, ,, afforded, me, n...</td>\n",
       "    </tr>\n",
       "    <tr>\n",
       "      <th>1</th>\n",
       "      <td>id17569</td>\n",
       "      <td>It never once occurred to me that the fumbling...</td>\n",
       "      <td>HPL</td>\n",
       "      <td>[It, never, once, occurred, to, me, that, the,...</td>\n",
       "    </tr>\n",
       "    <tr>\n",
       "      <th>2</th>\n",
       "      <td>id11008</td>\n",
       "      <td>In his left hand was a gold snuff box, from wh...</td>\n",
       "      <td>EAP</td>\n",
       "      <td>[In, his, left, hand, was, a, gold, snuff, box...</td>\n",
       "    </tr>\n",
       "    <tr>\n",
       "      <th>3</th>\n",
       "      <td>id27763</td>\n",
       "      <td>How lovely is spring As we looked from Windsor...</td>\n",
       "      <td>MWS</td>\n",
       "      <td>[How, lovely, is, spring, As, we, looked, from...</td>\n",
       "    </tr>\n",
       "    <tr>\n",
       "      <th>4</th>\n",
       "      <td>id12958</td>\n",
       "      <td>Finding nothing else, not even gold, the Super...</td>\n",
       "      <td>HPL</td>\n",
       "      <td>[Finding, nothing, else, ,, not, even, gold, ,...</td>\n",
       "    </tr>\n",
       "  </tbody>\n",
       "</table>\n",
       "</div>"
      ],
      "text/plain": [
       "        id                                               text author  \\\n",
       "0  id26305  This process, however, afforded me no means of...    EAP   \n",
       "1  id17569  It never once occurred to me that the fumbling...    HPL   \n",
       "2  id11008  In his left hand was a gold snuff box, from wh...    EAP   \n",
       "3  id27763  How lovely is spring As we looked from Windsor...    MWS   \n",
       "4  id12958  Finding nothing else, not even gold, the Super...    HPL   \n",
       "\n",
       "                                              tokens  \n",
       "0  [This, process, ,, however, ,, afforded, me, n...  \n",
       "1  [It, never, once, occurred, to, me, that, the,...  \n",
       "2  [In, his, left, hand, was, a, gold, snuff, box...  \n",
       "3  [How, lovely, is, spring, As, we, looked, from...  \n",
       "4  [Finding, nothing, else, ,, not, even, gold, ,...  "
      ]
     },
     "execution_count": 2,
     "metadata": {},
     "output_type": "execute_result"
    }
   ],
   "source": [
    "d = pd.read_csv('data/train.csv')\n",
    "#execute only once to download resources: nltk.download('stopwords') nltk.download('punkt') nltk.download('wordnet')\n",
    "d['tokens'] = d.text.apply(nltk.word_tokenize)\n",
    "d.head()"
   ]
  },
  {
   "cell_type": "code",
   "execution_count": 3,
   "metadata": {},
   "outputs": [],
   "source": [
    "# Further provisions of token preprocessing\n",
    "# Remove heading apostrophes as their occurrence is highly unbalanced among writer's corpora (might be due to publishing reasons)\n",
    "filter_heading_apostrophes = compose(list,\n",
    "                                     partial(filter, lambda tokens: \"'\"!=tokens[0][0]))\n",
    "\n",
    "transform_lower_case = compose(list,\n",
    "                               partial(map, lambda token: token.lower()))\n",
    "\n",
    "d.tokens = d.tokens.apply(compose(filter_heading_apostrophes,\n",
    "                                  transform_lower_case))"
   ]
  },
  {
   "cell_type": "markdown",
   "metadata": {},
   "source": [
    "### Vocabulary in the Corpus\n",
    "Corpus as a whole and writers' corpora"
   ]
  },
  {
   "cell_type": "code",
   "execution_count": 10,
   "metadata": {},
   "outputs": [],
   "source": [
    "tokenList = partial(reduce, operator.concat)\n",
    "frequencies = lambda l: sorted([(k, len(list(v))) for k,v in groupby(sorted(l))],\n",
    "                               key=second, reverse=True)\n",
    "\n",
    "writers = ['EAP', 'HPL', 'MWS']\n",
    "corpora = ['corpus'] + writers\n",
    "allTokens = {}\n",
    "vocabulary = {}\n",
    "tokenFreq = {}\n",
    "for c in corpora:\n",
    "    if c=='corpus':\n",
    "        allTokens[c] = tokenList(d.tokens)\n",
    "    else:       \n",
    "        allTokens[c] = tokenList(d[d.author==c].tokens)\n",
    "    vocabulary[c] = set(allTokens[c])\n",
    "    tokenFreq[c] = frequencies(allTokens[c])"
   ]
  },
  {
   "cell_type": "code",
   "execution_count": 47,
   "metadata": {},
   "outputs": [
    {
     "data": {
      "image/png": "[encoded data removed]",
      "text/plain": [
       "<Figure size 1080x504 with 1 Axes>"
      ]
     },
     "metadata": {},
     "output_type": "display_data"
    }
   ],
   "source": [
    "first_n_most_frequent_tokens = lambda n: mapl(first, tokenFreq['corpus'][:n])\n",
    "\n",
    "def get_token_freq(tokens, corpus):\n",
    "    dict_freq = dict(tokenFreq[corpus])\n",
    "    return {k: dict_freq[k] for k in tokens}\n",
    "\n",
    "n_w = 15\n",
    "most_freq_tokens = pd.DataFrame.from_dict(\n",
    "    dict(zip(writers,\n",
    "             map(partial(get_token_freq, first_n_most_frequent_tokens(n_w)),\n",
    "                 writers)))).sort_values(by=['EAP'], ascending=False)\n",
    "\n",
    "most_freq_tokens.plot.bar(rot=0, figsize=(15, 7), title='Frequencies in the writers corpora of the ' + str(n_w) + 'most common tokens');\n",
    "#subplots=True, title=['','',''],"
   ]
  },
  {
   "cell_type": "code",
   "execution_count": 56,
   "metadata": {},
   "outputs": [
    {
     "data": {
      "image/png": "[encoded data removed]",
      "text/plain": [
       "<Figure size 576x360 with 1 Axes>"
      ]
     },
     "metadata": {},
     "output_type": "display_data"
    }
   ],
   "source": [
    "plt.figure(figsize=(8,5));\n",
    "for c in ['corpus']:\n",
    "    plt.loglog(rangel(len(tokenFreq[c])),\n",
    "               mapl(second, tokenFreq[c]),\n",
    "               'r', linewidth=2.5);\n",
    "plt.title('Token distribution: Exponential or Power Law Decay of Frequencies');\n",
    "plt.xlabel('Tokens ordered by frequency'); plt.ylabel('Frequency of tokens');"
   ]
  },
  {
   "cell_type": "code",
   "execution_count": 48,
   "metadata": {},
   "outputs": [
    {
     "name": "stdout",
     "output_type": "stream",
     "text": [
      "Number of tokens occuring only once 9307\n",
      "Samples of rare words ['a.d', 'a.d.', 'a.m', 'aaem', 'ab', 'abaft', 'abased', 'abasement', 'abashed', 'abashment', 'abated', 'abating', 'abbeys', 'abbé', 'abdicated', 'abdications', 'abdomen', 'aberrancy', 'aberration', 'abide', 'abijah', 'abjure', 'ablaze', 'ably', 'abolished', 'aboriginal', 'abortion', 'abounded', 'aboundingly', 'absconded']\n"
     ]
    }
   ],
   "source": [
    "singletons = filterl(compose(lambda x: x==1, second), tokenFreq['corpus'])\n",
    "print(\"Number of tokens occuring only once\", len(singletons))\n",
    "print(\"Samples of rare words\", mapl(first, singletons[:30]))"
   ]
  },
  {
   "cell_type": "markdown",
   "metadata": {},
   "source": [
    "# Simple Model on Common Words\n",
    "**Approach:** Naive Bayes classifier on the frequency of common words in a sentence"
   ]
  },
  {
   "cell_type": "code",
   "execution_count": 57,
   "metadata": {},
   "outputs": [],
   "source": [
    "from sklearn.feature_extraction import DictVectorizer\n",
    "dv = DictVectorizer()\n",
    "from sklearn.ensemble import GradientBoostingClassifier\n",
    "from sklearn.naive_bayes import MultinomialNB\n",
    "from sklearn.model_selection import cross_val_score, cross_validate\n",
    "from sklearn.metrics import confusion_matrix, classification_report\n",
    "from sklearn import preprocessing"
   ]
  },
  {
   "cell_type": "markdown",
   "metadata": {},
   "source": [
    "## Vectorization"
   ]
  },
  {
   "cell_type": "code",
   "execution_count": 58,
   "metadata": {},
   "outputs": [],
   "source": [
    "filter_by_set = lambda coll: compose(list,\n",
    "                                     partial(filter, lambda x: x in coll))\n",
    "# frequencies -> Sparse Matrix:\n",
    "frequencies_in_tokens = lambda tokens, vocabulary: dv.fit_transform(\n",
    "                                                    map(compose(dict,\n",
    "                                                            frequencies,\n",
    "                                                            filter_by_set(vocabulary)),\n",
    "                                                        tokens))"
   ]
  },
  {
   "cell_type": "markdown",
   "metadata": {},
   "source": [
    "## Model Construction"
   ]
  },
  {
   "cell_type": "code",
   "execution_count": 78,
   "metadata": {},
   "outputs": [],
   "source": [
    "number_common_words = 200\n",
    "Y = d.author\n",
    "X = frequencies_in_tokens(d.tokens,\n",
    "                          first_n_most_frequent_tokens(number_common_words))\n",
    "model = MultinomialNB().fit(X,Y)\n",
    "Y_pred = model.predict(X)"
   ]
  },
  {
   "cell_type": "markdown",
   "metadata": {},
   "source": [
    "## Model Evaluation"
   ]
  },
  {
   "cell_type": "code",
   "execution_count": 79,
   "metadata": {},
   "outputs": [
    {
     "name": "stdout",
     "output_type": "stream",
     "text": [
      "Classification report \n",
      "in-sample\n",
      "              precision    recall  f1-score   support\n",
      "\n",
      "        EAP       0.67      0.68      0.67      7900\n",
      "        HPL       0.59      0.66      0.62      5635\n",
      "        MWS       0.67      0.59      0.63      6044\n",
      "\n",
      "avg / total       0.65      0.65      0.65     19579\n",
      "\n",
      "out-of-sample precision\n",
      " 0.639\n",
      "\n",
      "Confusion Matrix in-sample\n"
     ]
    },
    {
     "data": {
      "text/html": [
       "<div>\n",
       "<style scoped>\n",
       "    .dataframe tbody tr th:only-of-type {\n",
       "        vertical-align: middle;\n",
       "    }\n",
       "\n",
       "    .dataframe tbody tr th {\n",
       "        vertical-align: top;\n",
       "    }\n",
       "\n",
       "    .dataframe thead th {\n",
       "        text-align: right;\n",
       "    }\n",
       "</style>\n",
       "<table border=\"1\" class=\"dataframe\">\n",
       "  <thead>\n",
       "    <tr style=\"text-align: right;\">\n",
       "      <th></th>\n",
       "      <th>EAP</th>\n",
       "      <th>HPL</th>\n",
       "      <th>MWS</th>\n",
       "    </tr>\n",
       "  </thead>\n",
       "  <tbody>\n",
       "    <tr>\n",
       "      <th>EAP</th>\n",
       "      <td>5350</td>\n",
       "      <td>1414</td>\n",
       "      <td>1136</td>\n",
       "    </tr>\n",
       "    <tr>\n",
       "      <th>HPL</th>\n",
       "      <td>1307</td>\n",
       "      <td>3701</td>\n",
       "      <td>627</td>\n",
       "    </tr>\n",
       "    <tr>\n",
       "      <th>MWS</th>\n",
       "      <td>1325</td>\n",
       "      <td>1135</td>\n",
       "      <td>3584</td>\n",
       "    </tr>\n",
       "  </tbody>\n",
       "</table>\n",
       "</div>"
      ],
      "text/plain": [
       "      EAP   HPL   MWS\n",
       "EAP  5350  1414  1136\n",
       "HPL  1307  3701   627\n",
       "MWS  1325  1135  3584"
      ]
     },
     "execution_count": 79,
     "metadata": {},
     "output_type": "execute_result"
    }
   ],
   "source": [
    "precision = lambda x, y: sum(x == y) / len(x)\n",
    "\n",
    "def classifier_assessment(model_class, X, Y) -> None:\n",
    "    return {'in-sample-precision':\n",
    "            round(precision(Y, model_class.fit(X,Y).predict(X)), 3),\n",
    "            'out-of-sample-precision':\n",
    "            round(np.mean(cross_val_score(model_class, X, Y, cv=8)), 3)}\n",
    "\n",
    "print('Classification report \\nin-sample\\n', classification_report(Y, Y_pred))\n",
    "print('out-of-sample precision\\n', classifier_assessment(model, X, Y)['out-of-sample-precision'])\n",
    "print('\\nConfusion Matrix in-sample')\n",
    "pd.DataFrame(confusion_matrix(Y, Y_pred, labels=writers), columns=writers, index=writers)"
   ]
  },
  {
   "cell_type": "markdown",
   "metadata": {},
   "source": [
    "## Model Variations\n",
    "### Sensitivity to Number of Common Words"
   ]
  },
  {
   "cell_type": "code",
   "execution_count": 99,
   "metadata": {},
   "outputs": [],
   "source": [
    "commonwords_sizes = [10, 50, 100, 200, 400, 600, 1000, 1500, 2000, 5000, 10000]\n",
    "precs_in, precs_out = [], []\n",
    "for n in commonwords_sizes:\n",
    "    X_n = frequencies_in_tokens(d.tokens, first_n_most_frequent_tokens(n))\n",
    "    res = classifier_assessment(MultinomialNB(), X_n, Y)\n",
    "    precs_in.append(res['in-sample-precision'])\n",
    "    precs_out.append(res['out-of-sample-precision'])"
   ]
  },
  {
   "cell_type": "code",
   "execution_count": 108,
   "metadata": {},
   "outputs": [
    {
     "data": {
      "image/png": "[encoded data removed]",
      "text/plain": [
       "<Figure size 648x360 with 1 Axes>"
      ]
     },
     "metadata": {},
     "output_type": "display_data"
    }
   ],
   "source": [
    "plt.figure(figsize=(9,5));\n",
    "plt.semilogx(commonwords_sizes, precs_in);\n",
    "plt.semilogx(commonwords_sizes, precs_out, 'r');\n",
    "plt.xlabel('Number of common words'); plt.ylabel('Precision'); plt.title('Precision');\n",
    "plt.legend(['in-sample', 'out-of-sample']);"
   ]
  },
  {
   "cell_type": "markdown",
   "metadata": {},
   "source": [
    "Take no more than 200 words as from then on content bearings words appear, e.g. character names like Raymond.\n",
    "\n",
    "### Sensitivity towards Model Class\n",
    "Other and more complex models lead to no better results."
   ]
  },
  {
   "cell_type": "code",
   "execution_count": 129,
   "metadata": {},
   "outputs": [
    {
     "data": {
      "text/html": [
       "<div>\n",
       "<style scoped>\n",
       "    .dataframe tbody tr th:only-of-type {\n",
       "        vertical-align: middle;\n",
       "    }\n",
       "\n",
       "    .dataframe tbody tr th {\n",
       "        vertical-align: top;\n",
       "    }\n",
       "\n",
       "    .dataframe thead th {\n",
       "        text-align: right;\n",
       "    }\n",
       "</style>\n",
       "<table border=\"1\" class=\"dataframe\">\n",
       "  <thead>\n",
       "    <tr style=\"text-align: right;\">\n",
       "      <th></th>\n",
       "      <th>NaiveBayes</th>\n",
       "      <th>SVM-one-vs-rest</th>\n",
       "      <th>RandomForest</th>\n",
       "      <th>GradientBoosting</th>\n",
       "      <th>Nearest-Centroid</th>\n",
       "      <th>10-Nearest-Neibors</th>\n",
       "      <th>20-Nearest-Neibors</th>\n",
       "    </tr>\n",
       "  </thead>\n",
       "  <tbody>\n",
       "    <tr>\n",
       "      <th>in-sample-precision</th>\n",
       "      <td>0.645</td>\n",
       "      <td>0.668</td>\n",
       "      <td>0.984</td>\n",
       "      <td>0.726</td>\n",
       "      <td>0.478</td>\n",
       "      <td>0.609</td>\n",
       "      <td>0.609</td>\n",
       "    </tr>\n",
       "    <tr>\n",
       "      <th>out-of-sample-precision</th>\n",
       "      <td>0.639</td>\n",
       "      <td>0.658</td>\n",
       "      <td>0.589</td>\n",
       "      <td>0.663</td>\n",
       "      <td>0.476</td>\n",
       "      <td>0.519</td>\n",
       "      <td>0.519</td>\n",
       "    </tr>\n",
       "  </tbody>\n",
       "</table>\n",
       "</div>"
      ],
      "text/plain": [
       "                         NaiveBayes  SVM-one-vs-rest  RandomForest  \\\n",
       "in-sample-precision           0.645            0.668         0.984   \n",
       "out-of-sample-precision       0.639            0.658         0.589   \n",
       "\n",
       "                         GradientBoosting  Nearest-Centroid  \\\n",
       "in-sample-precision                 0.726             0.478   \n",
       "out-of-sample-precision             0.663             0.476   \n",
       "\n",
       "                         10-Nearest-Neibors  20-Nearest-Neibors  \n",
       "in-sample-precision                   0.609               0.609  \n",
       "out-of-sample-precision               0.519               0.519  "
      ]
     },
     "execution_count": 129,
     "metadata": {},
     "output_type": "execute_result"
    }
   ],
   "source": [
    "from sklearn.svm import LinearSVC\n",
    "from sklearn.ensemble import RandomForestClassifier\n",
    "from sklearn.neighbors import NearestCentroid, KNeighborsClassifier\n",
    "\n",
    "X = frequencies_in_tokens(d.tokens,\n",
    "                          first_n_most_frequent_tokens(number_common_words))\n",
    "\n",
    "model_classes = {'NaiveBayes': MultinomialNB(),\n",
    "                 'SVM-one-vs-rest': LinearSVC(),\n",
    "                 'RandomForest': RandomForestClassifier(),\n",
    "                 'GradientBoosting': GradientBoostingClassifier(n_estimators= 100, max_depth = 5),\n",
    "                 'Nearest-Centroid': NearestCentroid(),\n",
    "                 '10-Nearest-Neibors': KNeighborsClassifier(n_neighbors=10),\n",
    "                 '20-Nearest-Neibors': KNeighborsClassifier(n_neighbors=10)}\n",
    "\n",
    "pd.DataFrame.from_dict(dict(mapl(lambda m: [m, classifier_assessment(model_classes[m], X, Y)],\n",
    "                                 model_classes.keys())))"
   ]
  },
  {
   "cell_type": "markdown",
   "metadata": {},
   "source": [
    "# Multinomial Bayes Classifier and its Interpretation\n",
    "## Model\n",
    "In an multinomial model the random variable of feature occurrence counts $X = (X_1, \\ldots, X_n)$ has the *distribution conditional on class* $Y$\n",
    "\n",
    "$$ P_k \\left\\{ X_1 = x_1,\\ldots, X_n =x_n | Y \\right\\} = \\frac{m!}{x_1!\\ldots x_n!} \\prod_{k=1\\dots n} p_{k|y}^{x_k}$$\n",
    "\n",
    "**Interpretation:** Using this model implies that a writer $y$ builds a sentence of length $m$ by picking $m$-times from the set of common words where each common word $k$ appears with probability $p_{k|y}$.\n",
    "\n",
    "## Estimation of Model Parameters\n",
    "Sklearn *estimates* these probabilities (recalling source code MultinomialNB._count) by the relative frequencies in the corpus for a class $y$\n",
    "\n",
    "\\begin{align}\n",
    " \\hat p_{k|y} & = \\frac{c_{k,y}}{c_y} \\\\\n",
    "      c_{k,y} & = \\sum_{\\omega| Y(\\omega) = y} X_k(\\omega) + \\alpha \\\\\n",
    "      c_y     & = \\sum_k c_{k|y}\n",
    "\\end{align}\n",
    "The parameter $\\alpha$ regularizes.\n",
    "\n",
    "**Interpretation:**\n",
    "* The writer picks randomly a word from all the words he has ever written \n",
    "* puts it back and repeats $m$-times\n",
    "\n",
    "![alt text](img/um.jpg)\n",
    "\n",
    "Note: This is a portfolio approach in which the occurrences among single observations are irrelevant, e.g. observing two times a frequency of 2 yielding the same as 0 and 4 each one time.\n",
    "\n",
    "## Model Application\n",
    "The calibrated Bayes model attributes observation $x$ to the probability being of class $y$ \n",
    "$$P\\{ Y=y | X=x \\} = \\frac{P\\{Y=y\\} P\\{X=x|Y=y\\}} {P\\{X=x\\}} $$\n",
    "\n",
    "With evidence the same for all classes a Bayes classifier would attribute the class with the highest probability\n",
    "\n",
    "$$\\text{classifier:} ~~ x \\longrightarrow \\text{argmax}_{y} P\\{Y=y\\} P\\{X=x | Y=y\\}$$\n",
    "\n",
    "The latter returns the same when transforming the probabilities in the following way\n",
    "\n",
    "\\begin{align}\n",
    " & P\\{ Y=y \\} P\\{ X=x | Y=y \\} \\\\\n",
    " & = P\\{ Y=y \\}  \\frac{m!}{x_1!\\ldots x_n!} \\prod_{k=1\\dots n} p_{k|y}^{x_k} \\\\\n",
    " & \\approx P\\{ Y=y \\} \\prod_{k=1\\dots n} p_{k|y}^{x_k} \\\\\n",
    " & \\approx \\log P\\{ Y=y \\} + \\sum_{k=1\\ldots n} x_k \\log p_{k|y}\n",
    "\\end{align}\n",
    "\n",
    "## Features with high predictive power\n",
    "The higher conditional probability of a word given an author $\\log p_{k|y} $, the higher is its influence on the classifier\n",
    "Ignoring the relative even priors, the "
   ]
  },
  {
   "cell_type": "code",
   "execution_count": 158,
   "metadata": {},
   "outputs": [
    {
     "name": "stdout",
     "output_type": "stream",
     "text": [
      "EAP \n",
      "\tHighest_Log_Probilities\n",
      "\t\t , \t -2.13\n",
      "\t\t thing \t -2.29\n",
      "\t\t where \t -2.81\n",
      "\t\t the \t -2.96\n",
      "\t\t he \t -3.25\n",
      "\tLowest Log Probabilities\n",
      "\t\t most \t -7.96\n",
      "\t\t house \t -8.12\n",
      "\t\t they \t -8.91\n",
      "\t\t light \t -9.6\n",
      "\t\t once \t -11.91\n",
      "HPL \n",
      "\tHighest_Log_Probilities\n",
      "\t\t thing \t -2.25\n",
      "\t\t , \t -2.49\n",
      "\t\t he \t -2.83\n",
      "\t\t where \t -2.88\n",
      "\t\t the \t -2.9\n",
      "\tLowest Log Probabilities\n",
      "\t\t three \t -7.99\n",
      "\t\t come \t -8.78\n",
      "\t\t will \t -8.91\n",
      "\t\t most \t -9.47\n",
      "\t\t once \t -10.45\n",
      "MWS \n",
      "\tHighest_Log_Probilities\n",
      "\t\t , \t -2.31\n",
      "\t\t thing \t -2.53\n",
      "\t\t he \t -2.99\n",
      "\t\t where \t -2.99\n",
      "\t\t the \t -3.06\n",
      "\tLowest Log Probabilities\n",
      "\t\t love \t -7.88\n",
      "\t\t death \t -7.92\n",
      "\t\t know \t -8.41\n",
      "\t\t few \t -8.41\n",
      "\t\t day \t -11.71\n"
     ]
    }
   ],
   "source": [
    "common_words = first_n_most_frequent_tokens(n)\n",
    "log_prob = dict(zip(model.classes_,\n",
    "             map(lambda xs: list(sorted(zip(common_words, xs),\n",
    "                                 key=lambda x: x[1], reverse=True)),\n",
    "                (map(lambda x: np.round(x,2), model.feature_log_prob_)))))\n",
    "\n",
    "def pretty_print_dict(diction):\n",
    "    for k in diction.keys():\n",
    "        print('\\t\\t', k,'\\t', diction[k])\n",
    "\n",
    "for w in writers:\n",
    "    print(w, '\\n\\tHighest_Log_Probilities')\n",
    "    pretty_print_dict(dict(log_prob[w][:5]))\n",
    "    print('\\tLowest Log Probabilities')\n",
    "    pretty_print_dict(dict(log_prob[w][-5:]))"
   ]
  },
  {
   "cell_type": "markdown",
   "metadata": {},
   "source": [
    "##  Enhance Features with Statistics\n",
    "Add to the above frequencies of common words the following statistics\n",
    " * sentence length\n",
    " \n",
    "The stastistics alone has predictive power. Find a way for incorporation into above model approaches. It adds also nicely to the interpretation of naive Bayes classifier."
   ]
  },
  {
   "cell_type": "code",
   "execution_count": null,
   "metadata": {},
   "outputs": [],
   "source": [
    "sentence_lengths = np.array(list(map(len, d.tokens))).reshape(-1, 1)\n",
    "classifier_assessment(MultinomialNB(), sentence_lengths, Y)"
   ]
  },
  {
   "cell_type": "markdown",
   "metadata": {},
   "source": [
    "#  Questions so far\n",
    " * Why does the usual tf-idf approach not work for author attribution?\n",
    " * Why is in-sample and out-of-sample precision so close?\n",
    " * .. but not for random forests?"
   ]
  },
  {
   "cell_type": "markdown",
   "metadata": {},
   "source": [
    "# Outlook\n",
    "## Encoding\n",
    "Experiment with other text encodings on other level. Like on\n",
    "\n",
    "**Character Level**\n",
    " * occurrence of character sequences\n",
    " * punctuation\n",
    "   * eg. frequency of commas, semicolons, periods, quotation-marks\n",
    "\n",
    "**Lexical Level**\n",
    " * stemming\n",
    " * lemmatization\n",
    " * enlarge common tokens while filter names and places\n",
    "\n",
    "**Syntactical Level**\n",
    " * part of speech\n",
    "   word classes as lexical items: noun, verb, adjective, adverb, pronoun, preposition, conjunction, interjection, numeral, article, determiner\n",
    " * part of sentence\n",
    "   consituents as lexical items: subject, predicate, direct/indirect object, modifier, abvervial,\n",
    " * sentence \n",
    "\n",
    "**Semantic**\n",
    " * .. better not\n",
    " \n",
    " \n",
    " ## Structure\n",
    " Pick up more structure than just counts\n",
    " \n",
    " **Respect Order** in Sentence\n",
    " * n-grams, eg character 3-grams |No_| |o_o| |_on| |one|\n",
    " * Markov Models? LSTMs"
   ]
  }
 ],
 "metadata": {
  "kernelspec": {
   "display_name": "Python 3",
   "language": "python",
   "name": "python3"
  },
  "language_info": {
   "codemirror_mode": {
    "name": "ipython",
    "version": 3
   },
   "file_extension": ".py",
   "mimetype": "text/x-python",
   "name": "python",
   "nbconvert_exporter": "python",
   "pygments_lexer": "ipython3",
   "version": "3.6.5"
  }
 },
 "nbformat": 4,
 "nbformat_minor": 2
}
