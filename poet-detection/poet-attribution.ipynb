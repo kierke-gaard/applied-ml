{
 "cells": [
  {
   "cell_type": "markdown",
   "metadata": {},
   "source": [
    "# Who wrote this? A Study for Authorship Attribution\n",
    "\n",
    "\"I ought to be thy Adam, but I am rather the fallen angel.\"\n",
    "\n",
    "\"Nothing is so painful to the human mind as a great and sudden change.\"\n",
    "\n",
    "\"It is the nature of truth in general, as of some ores in particular, to be richest when most superficial.\"\n",
    "\n",
    "\"The oldest and strongest emotion of mankind is fear, and the oldest and strongest kind of fear is fear of the unknown.\"\n",
    "\n",
    "![alt text](img/shelley.jpg) ![alt text](img/poe.png) ![alt text](img/lovecraft.jpg)\n",
    "\n",
    "Edgar Allan Poe, Mary Shelley, Howard Phillips Lovecraft\n",
    "\n",
    "**Objective:**\n",
    "Identify the writer of a sentence\n",
    "\n",
    "**Data:**\n",
    "For each writer a list of sentences from works of e.g. like Frankenstein, The Unparalleled Adventure of Hans Pfaall, The Call of Cthulhu\n",
    "\n",
    "# Data Exploration and Preprocessing"
   ]
  },
  {
   "cell_type": "code",
   "execution_count": 197,
   "metadata": {},
   "outputs": [],
   "source": [
    "%matplotlib inline\n",
    "import pandas as pd\n",
    "import numpy as np\n",
    "import matplotlib as plt\n",
    "from os import path\n",
    "import nltk\n",
    "from nltk.stem import WordNetLemmatizer\n",
    "import seaborn as sb\n",
    "from functools import reduce, partial\n",
    "from itertools import groupby\n",
    "import operator\n",
    "#TODO fix?\n",
    "import matplotlib.pyplot as plt\n",
    "import warnings\n",
    "warnings.filterwarnings(action='ignore')\n",
    "\n",
    "# Utilities\n",
    "identity = lambda x: x\n",
    "first = lambda x: x[0]\n",
    "second = lambda x: x[1]\n",
    "\n",
    "def compose(*functions):\n",
    "    \"\"\"Returns a function as composition of fuctions: f,g,..,h -> f°g°..°h\"\"\"\n",
    "    return reduce(lambda f, g: lambda x: f(g(x)),\n",
    "                            functions,\n",
    "                            identity)\n",
    "\n",
    "# Return container objects instead of iterators\n",
    "mapl = lambda f,xs: list(map(f,xs))\n",
    "reversedl = compose(list, reversed)\n",
    "rangel = compose(list, range)\n",
    "filterl = lambda f,xs: list(filter(f,xs))"
   ]
  },
  {
   "cell_type": "markdown",
   "metadata": {},
   "source": [
    "## Tokenization and Provisions"
   ]
  },
  {
   "cell_type": "code",
   "execution_count": 88,
   "metadata": {},
   "outputs": [
    {
     "data": {
      "text/html": [
       "<div>\n",
       "<style scoped>\n",
       "    .dataframe tbody tr th:only-of-type {\n",
       "        vertical-align: middle;\n",
       "    }\n",
       "\n",
       "    .dataframe tbody tr th {\n",
       "        vertical-align: top;\n",
       "    }\n",
       "\n",
       "    .dataframe thead th {\n",
       "        text-align: right;\n",
       "    }\n",
       "</style>\n",
       "<table border=\"1\" class=\"dataframe\">\n",
       "  <thead>\n",
       "    <tr style=\"text-align: right;\">\n",
       "      <th></th>\n",
       "      <th>id</th>\n",
       "      <th>text</th>\n",
       "      <th>author</th>\n",
       "      <th>tokens</th>\n",
       "    </tr>\n",
       "  </thead>\n",
       "  <tbody>\n",
       "    <tr>\n",
       "      <th>0</th>\n",
       "      <td>id26305</td>\n",
       "      <td>This process, however, afforded me no means of...</td>\n",
       "      <td>EAP</td>\n",
       "      <td>[This, process, ,, however, ,, afforded, me, n...</td>\n",
       "    </tr>\n",
       "    <tr>\n",
       "      <th>1</th>\n",
       "      <td>id17569</td>\n",
       "      <td>It never once occurred to me that the fumbling...</td>\n",
       "      <td>HPL</td>\n",
       "      <td>[It, never, once, occurred, to, me, that, the,...</td>\n",
       "    </tr>\n",
       "    <tr>\n",
       "      <th>2</th>\n",
       "      <td>id11008</td>\n",
       "      <td>In his left hand was a gold snuff box, from wh...</td>\n",
       "      <td>EAP</td>\n",
       "      <td>[In, his, left, hand, was, a, gold, snuff, box...</td>\n",
       "    </tr>\n",
       "    <tr>\n",
       "      <th>3</th>\n",
       "      <td>id27763</td>\n",
       "      <td>How lovely is spring As we looked from Windsor...</td>\n",
       "      <td>MWS</td>\n",
       "      <td>[How, lovely, is, spring, As, we, looked, from...</td>\n",
       "    </tr>\n",
       "    <tr>\n",
       "      <th>4</th>\n",
       "      <td>id12958</td>\n",
       "      <td>Finding nothing else, not even gold, the Super...</td>\n",
       "      <td>HPL</td>\n",
       "      <td>[Finding, nothing, else, ,, not, even, gold, ,...</td>\n",
       "    </tr>\n",
       "  </tbody>\n",
       "</table>\n",
       "</div>"
      ],
      "text/plain": [
       "        id                                               text author  \\\n",
       "0  id26305  This process, however, afforded me no means of...    EAP   \n",
       "1  id17569  It never once occurred to me that the fumbling...    HPL   \n",
       "2  id11008  In his left hand was a gold snuff box, from wh...    EAP   \n",
       "3  id27763  How lovely is spring As we looked from Windsor...    MWS   \n",
       "4  id12958  Finding nothing else, not even gold, the Super...    HPL   \n",
       "\n",
       "                                              tokens  \n",
       "0  [This, process, ,, however, ,, afforded, me, n...  \n",
       "1  [It, never, once, occurred, to, me, that, the,...  \n",
       "2  [In, his, left, hand, was, a, gold, snuff, box...  \n",
       "3  [How, lovely, is, spring, As, we, looked, from...  \n",
       "4  [Finding, nothing, else, ,, not, even, gold, ,...  "
      ]
     },
     "execution_count": 88,
     "metadata": {},
     "output_type": "execute_result"
    }
   ],
   "source": [
    "d = pd.read_csv('data/train.csv')\n",
    "#execute only once to download resources\n",
    "#nltk.download('stopwords')\n",
    "#nltk.download('punkt')\n",
    "#nltk.download('wordnet')\n",
    "d['tokens'] = d.text.apply(nltk.word_tokenize)\n",
    "d.head()"
   ]
  },
  {
   "cell_type": "code",
   "execution_count": 89,
   "metadata": {},
   "outputs": [],
   "source": [
    "# Further provisions of token preprocessing\n",
    "# Remove heading apostrophes as their occurrence is highly unbalanced among writer's corpora (might be due to publishing reasons)\n",
    "filter_heading_apostrophes = compose(list,\n",
    "                                     partial(filter, lambda tokens: \"'\"!=tokens[0][0]))\n",
    "\n",
    "transform_lower_case = compose(list,\n",
    "                               partial(map, lambda token: token.lower()))\n",
    "\n",
    "d.tokens = d.tokens.apply(compose(filter_heading_apostrophes,\n",
    "                                  transform_lower_case))"
   ]
  },
  {
   "cell_type": "markdown",
   "metadata": {},
   "source": [
    "### Vocabulary in the Corpus"
   ]
  },
  {
   "cell_type": "code",
   "execution_count": 90,
   "metadata": {},
   "outputs": [],
   "source": [
    "tokenList = partial(reduce, operator.concat)\n",
    "frequencies = lambda l: sorted([(k, len(list(v))) for k,v in groupby(sorted(l))],\n",
    "                               key=second, reverse=True)\n",
    "\n",
    "allTokens = {}\n",
    "allTokens['corpus'] = tokenList(d.tokens)\n",
    "vocabulary = {}\n",
    "vocabulary['corpus'] = set(allTokens['corpus'])\n",
    "tokenFreq = {}\n",
    "tokenFreq['corpus'] = frequencies(allTokens['corpus'])"
   ]
  },
  {
   "cell_type": "markdown",
   "metadata": {},
   "source": [
    "#### Whole Corpus and Writers' Corpora"
   ]
  },
  {
   "cell_type": "code",
   "execution_count": 181,
   "metadata": {},
   "outputs": [
    {
     "name": "stdout",
     "output_type": "stream",
     "text": [
      "Frequencies in the writers corpora of the  15 most common tokens\n"
     ]
    },
    {
     "data": {
      "image/png": "[encoded data removed]",
      "text/plain": [
       "<Figure size 432x288 with 3 Axes>"
      ]
     },
     "metadata": {
      "needs_background": "light"
     },
     "output_type": "display_data"
    }
   ],
   "source": [
    "first_n_most_frequent_tokens = lambda n: mapl(first, tokenFreq['corpus'][:n])\n",
    "writers = ['EAP', 'HPL', 'MWS']\n",
    "corpora = writers # + ['corpus']\n",
    "\n",
    "def get_token_freq(tokens, corpus):\n",
    "    dict_freq = dict(tokenFreq[corpus])\n",
    "    return {k: dict_freq[k] for k in tokens}\n",
    "\n",
    "n_w = 15\n",
    "\n",
    "most_freq_tokens = pd.DataFrame.from_dict(\n",
    "    dict(zip(corpora,\n",
    "             map(partial(get_token_freq, first_n_most_frequent_tokens(n_w)),\n",
    "                 corpora)))).sort_values(by=['EAP'], ascending=False)\n",
    "\n",
    "print('Frequencies in the writers corpora of the ', n_w, 'most common tokens')\n",
    "most_freq_tokens.plot.bar(rot=0, subplots=True);"
   ]
  },
  {
   "cell_type": "code",
   "execution_count": 182,
   "metadata": {},
   "outputs": [
    {
     "data": {
      "image/png": "[encoded data removed]",
      "text/plain": [
       "<Figure size 432x288 with 1 Axes>"
      ]
     },
     "metadata": {
      "needs_background": "light"
     },
     "output_type": "display_data"
    }
   ],
   "source": [
    "plt.loglog(rangel(len(tokenFreq['corpus'])),\n",
    "           mapl(second, tokenFreq['corpus']));\n",
    "plt.title('Token distribution: Exponential or Power Law Decay of Frequencies');\n",
    "plt.xlabel('Tokens ordered by frequency'); plt.ylabel('Frequency of tokens');"
   ]
  },
  {
   "cell_type": "code",
   "execution_count": 186,
   "metadata": {},
   "outputs": [
    {
     "name": "stdout",
     "output_type": "stream",
     "text": [
      "Number of tokens occuring only once 9307\n",
      "Samples of rare words ['a.d', 'a.d.', 'a.m', 'aaem', 'ab', 'abaft', 'abased', 'abasement', 'abashed', 'abashment', 'abated', 'abating', 'abbeys', 'abbé', 'abdicated', 'abdications', 'abdomen', 'aberrancy', 'aberration', 'abide', 'abijah', 'abjure', 'ablaze', 'ably', 'abolished', 'aboriginal', 'abortion', 'abounded', 'aboundingly', 'absconded']\n"
     ]
    }
   ],
   "source": [
    "singletons = filterl(compose(lambda x: x==1, second), tokenFreq['corpus'])\n",
    "print(\"Number of tokens occuring only once\", len(singletons))\n",
    "print(\"Samples of rare words\", mapl(first, singletons[:30]))"
   ]
  },
  {
   "cell_type": "markdown",
   "metadata": {},
   "source": [
    "# Simple Model on Common Words\n",
    "**Approach:** Naive Bayes classifier on the frequency of common words in a sentence"
   ]
  },
  {
   "cell_type": "code",
   "execution_count": 94,
   "metadata": {},
   "outputs": [],
   "source": [
    "from sklearn.feature_extraction import DictVectorizer\n",
    "dv = DictVectorizer()\n",
    "from sklearn.ensemble import GradientBoostingClassifier\n",
    "from sklearn.naive_bayes import MultinomialNB\n",
    "from sklearn.model_selection import cross_val_score, cross_validate\n",
    "from sklearn.metrics import confusion_matrix, classification_report\n",
    "from sklearn import preprocessing"
   ]
  },
  {
   "cell_type": "markdown",
   "metadata": {},
   "source": [
    "## Vectorization"
   ]
  },
  {
   "cell_type": "code",
   "execution_count": 96,
   "metadata": {},
   "outputs": [],
   "source": [
    "filter_by_set = lambda coll: compose(list,\n",
    "                                     partial(filter, lambda x: x in coll))\n",
    "\n",
    "# Returns the frequencies of the vocs in the tokens as sparse matrix\n",
    "frequencies_in_tokens = lambda tokens, vocabulary: dv.fit_transform(\n",
    "                                                    map(compose(dict,\n",
    "                                                            frequencies,\n",
    "                                                            filter_by_set(vocabulary)),\n",
    "                                                        tokens))"
   ]
  },
  {
   "cell_type": "markdown",
   "metadata": {},
   "source": [
    "## Model Construction"
   ]
  },
  {
   "cell_type": "code",
   "execution_count": 194,
   "metadata": {},
   "outputs": [
    {
     "name": "stdout",
     "output_type": "stream",
     "text": [
      "In-sample Results\n",
      "  Classification Report\n",
      "               precision    recall  f1-score   support\n",
      "\n",
      "         EAP       0.67      0.68      0.67      7900\n",
      "         HPL       0.59      0.66      0.62      5635\n",
      "         MWS       0.67      0.59      0.63      6044\n",
      "\n",
      "   micro avg       0.65      0.65      0.65     19579\n",
      "   macro avg       0.64      0.64      0.64     19579\n",
      "weighted avg       0.65      0.65      0.65     19579\n",
      "\n",
      "  Confusion Matrix\n"
     ]
    },
    {
     "data": {
      "text/html": [
       "<div>\n",
       "<style scoped>\n",
       "    .dataframe tbody tr th:only-of-type {\n",
       "        vertical-align: middle;\n",
       "    }\n",
       "\n",
       "    .dataframe tbody tr th {\n",
       "        vertical-align: top;\n",
       "    }\n",
       "\n",
       "    .dataframe thead th {\n",
       "        text-align: right;\n",
       "    }\n",
       "</style>\n",
       "<table border=\"1\" class=\"dataframe\">\n",
       "  <thead>\n",
       "    <tr style=\"text-align: right;\">\n",
       "      <th></th>\n",
       "      <th>EAP</th>\n",
       "      <th>HPL</th>\n",
       "      <th>MWS</th>\n",
       "    </tr>\n",
       "  </thead>\n",
       "  <tbody>\n",
       "    <tr>\n",
       "      <th>EAP</th>\n",
       "      <td>5350</td>\n",
       "      <td>1414</td>\n",
       "      <td>1136</td>\n",
       "    </tr>\n",
       "    <tr>\n",
       "      <th>HPL</th>\n",
       "      <td>1307</td>\n",
       "      <td>3701</td>\n",
       "      <td>627</td>\n",
       "    </tr>\n",
       "    <tr>\n",
       "      <th>MWS</th>\n",
       "      <td>1325</td>\n",
       "      <td>1135</td>\n",
       "      <td>3584</td>\n",
       "    </tr>\n",
       "  </tbody>\n",
       "</table>\n",
       "</div>"
      ],
      "text/plain": [
       "      EAP   HPL   MWS\n",
       "EAP  5350  1414  1136\n",
       "HPL  1307  3701   627\n",
       "MWS  1325  1135  3584"
      ]
     },
     "execution_count": 194,
     "metadata": {},
     "output_type": "execute_result"
    }
   ],
   "source": [
    "number_common_words = 200\n",
    "Y = d.author\n",
    "X = frequencies_in_tokens(d.tokens,\n",
    "                          first_n_most_frequent_tokens(number_common_words))\n",
    "model = MultinomialNB().fit(X,Y)\n",
    "Y_pred = model.predict(X)\n",
    "print('In-sample Results\\n  Classification Report\\n', classification_report(Y, Y_pred))\n",
    "print('  Confusion Matrix')\n",
    "pd.DataFrame(confusion_matrix(Y, Y_pred, labels=writers), columns=writers, index=writers)"
   ]
  },
  {
   "cell_type": "markdown",
   "metadata": {},
   "source": [
    "## Model Evaluation"
   ]
  },
  {
   "cell_type": "code",
   "execution_count": 195,
   "metadata": {},
   "outputs": [
    {
     "data": {
      "text/plain": [
       "{'in-sample-precision': 0.6453342867357883,\n",
       " 'out-of-sample-precision': 0.6388973395539028}"
      ]
     },
     "execution_count": 195,
     "metadata": {},
     "output_type": "execute_result"
    }
   ],
   "source": [
    "precision = lambda x, y: sum(x == y) / len(x)\n",
    "\n",
    "def classifier_assessment(model_class, X, Y) -> None:\n",
    "    return {'in-sample-precision': precision(Y, model_class.fit(X,Y).predict(X)),\n",
    "            'out-of-sample-precision': np.mean(cross_val_score(model_class, X, Y, cv=8))}\n",
    "\n",
    "classifier_assessment(model, X, Y)"
   ]
  },
  {
   "cell_type": "markdown",
   "metadata": {},
   "source": [
    "## Model Variations\n",
    "### Sensitivity to Number of Common Words"
   ]
  },
  {
   "cell_type": "code",
   "execution_count": 98,
   "metadata": {},
   "outputs": [
    {
     "name": "stdout",
     "output_type": "stream",
     "text": [
      "5 {'in-sample-precision': 0.45559017314469585, 'out-of-sample-precision': 0.45605126059258444}\n",
      "10 {'in-sample-precision': 0.4691250829970887, 'out-of-sample-precision': 0.4692259731151678}\n",
      "50 {'in-sample-precision': 0.5732672761632361, 'out-of-sample-precision': 0.5711207508283209}\n",
      "100 {'in-sample-precision': 0.5990091424485418, 'out-of-sample-precision': 0.5963534444116483}\n",
      "200 {'in-sample-precision': 0.6453342867357883, 'out-of-sample-precision': 0.6388973395539028}\n",
      "400 {'in-sample-precision': 0.6934981357576996, 'out-of-sample-precision': 0.6860909748901042}\n",
      "600 {'in-sample-precision': 0.7227641861177793, 'out-of-sample-precision': 0.7119357667044304}\n",
      "1000 {'in-sample-precision': 0.7562183972623729, 'out-of-sample-precision': 0.7413032593343052}\n",
      "1500 {'in-sample-precision': 0.7820113386791971, 'out-of-sample-precision': 0.7619378174824729}\n",
      "2000 {'in-sample-precision': 0.8008069870779917, 'out-of-sample-precision': 0.7786915094976463}\n",
      "5000 {'in-sample-precision': 0.8575514581950049, 'out-of-sample-precision': 0.822717144727947}\n",
      "10000 {'in-sample-precision': 0.8873282598702692, 'out-of-sample-precision': 0.8414120732064454}\n"
     ]
    }
   ],
   "source": [
    "for n in [5, 10, 50, 100, 200, 400, 600, 1000, 1500, 2000, 5000, 10000]:\n",
    "    X = frequencies_in_tokens(d.tokens, first_n_most_frequent_tokens(n))\n",
    "    print(n, classifier_assessment(MultinomialNB(), X, Y))\n",
    "    \n",
    "#TODO: add plot"
   ]
  },
  {
   "cell_type": "markdown",
   "metadata": {},
   "source": [
    "Take no more than 200 words as from then on content bearings words appear, e.g. character names like Raymond.\n",
    "\n",
    "### Sensitivity towards Model Class"
   ]
  },
  {
   "cell_type": "code",
   "execution_count": 201,
   "metadata": {},
   "outputs": [
    {
     "name": "stdout",
     "output_type": "stream",
     "text": [
      "SVM-one-vs-rest \n",
      " {'in-sample-precision': 0.669084222891874, 'out-of-sample-precision': 0.658156100141861}\n",
      "RandomForest \n",
      " {'in-sample-precision': 0.9843710097553501, 'out-of-sample-precision': 0.5931349869206175}\n",
      "GradientBoosting \n",
      " {'in-sample-precision': 0.7260840696664794, 'out-of-sample-precision': 0.6624446285905089}\n"
     ]
    }
   ],
   "source": [
    "from sklearn.svm import LinearSVC\n",
    "from sklearn.ensemble import RandomForestClassifier\n",
    "\n",
    "X = frequencies_in_tokens(d.tokens,\n",
    "                          first_n_most_frequent_tokens(number_common_words))\n",
    "\n",
    "model_classes = {'SVM-one-vs-rest': LinearSVC(),\n",
    "                 'RandomForest': RandomForestClassifier(),\n",
    "                 'GradientBoosting': GradientBoostingClassifier(n_estimators= 100, max_depth = 5),\n",
    "                 'Nearest-Centroid': NearestCentroid(),\n",
    "                 '10-Nearest-Neibors': KNeighborsClassifier(n_neighbors=10),\n",
    "                 '20-Nearest-Neibors': KNeighborsClassifier(n_neighbors=10)}\n",
    "\n",
    "for m in model_classes.keys():\n",
    "    print(m, '\\n', classifier_assessment(model_classes[m], X, Y))"
   ]
  },
  {
   "cell_type": "markdown",
   "metadata": {},
   "source": [
    "# Multinomial Bayes Classifier and its Interpretation\n",
    "## Model\n",
    "In an multinomial model the random variable of feature occurrence counts $X = (X_1, \\ldots, X_n)$ has the *distribution conditional on class* $Y$\n",
    "\n",
    "$$ P_k \\left\\{ X_1 = x_1,\\ldots, X_n =x_n | Y \\right\\} = \\frac{m!}{x_1!\\ldots x_n!} \\prod_{k=1\\dots n} p_{k|y}^{x_k}$$\n",
    "\n",
    "**Interpretation:** Using this model implies that a writer $y$ builds a sentence of length $m$ by picking $m$-times from the set of common words where each common word $k$ appears with probability $p_{k|y}$.\n",
    "\n",
    "## Estimation of Model Parameters\n",
    "Sklearn *estimates* these probabilities (recalling source code MultinomialNB._count) by the relative frequencies in the corpus for a class $y$\n",
    "\n",
    "\\begin{align}\n",
    " \\hat p_{k|y} & = \\frac{c_{k,y}}{c_y} \\\\\n",
    "      c_{k,y} & = \\sum_{\\omega| Y(\\omega) = y} X_k(\\omega) + \\alpha \\\\\n",
    "      c_y     & = \\sum_k c_{k|y}\n",
    "\\end{align}\n",
    "The parameter $\\alpha$ regularizes.\n",
    "\n",
    "**Interpretation:**\n",
    "* The writer picks randomly a word from all the words he has ever written \n",
    "* puts it back and repeats $m$-times\n",
    "\n",
    "![alt text](img/um.jpg)\n",
    "\n",
    "Note: This is a portfolio approach in which the occurrences among single observations are irrelevant, e.g. observing two times a frequency of 2 yielding the same as 0 and 4 each one time.\n",
    "\n",
    "## Model Application\n",
    "The calibrated Bayes model attributes observation $x$ to the probability being of class $y$ \n",
    "$$P\\{ Y=y | X=x \\} = \\frac{P\\{Y=y\\} P\\{X=x|Y=y\\}} {P\\{X=x\\}} $$\n",
    "\n",
    "With evidence the same for all classes a Bayes classifier would attribute the class with the highest probability\n",
    "\n",
    "$$\\text{classifier:} ~~ x \\longrightarrow \\text{argmax}_{y} P\\{Y=y\\} P\\{X=x | Y=y\\}$$\n",
    "\n",
    "The latter returns the same when transforming the probabilities in the following way\n",
    "\n",
    "\\begin{align}\n",
    " & P\\{ Y=y \\} P\\{ X=x | Y=y \\} \\\\\n",
    " & = P\\{ Y=y \\}  \\frac{m!}{x_1!\\ldots x_n!} \\prod_{k=1\\dots n} p_{k|y}^{x_k} \\\\\n",
    " & \\approx P\\{ Y=y \\} \\prod_{k=1\\dots n} p_{k|y}^{x_k} \\\\\n",
    " & \\approx \\log P\\{ Y=y \\} + x_k \\log p_{k|y}\n",
    "\\end{align}\n",
    "\n",
    "## Features with high predictive power\n",
    "The higher conditional probability of a word given an author $\\log p_{k|y} $, the higher is its influence on the classifier\n",
    "Ignoring the relative even priors, the "
   ]
  },
  {
   "cell_type": "code",
   "execution_count": 101,
   "metadata": {},
   "outputs": [
    {
     "name": "stdout",
     "output_type": "stream",
     "text": [
      "EAP\n",
      "Highest Log prob\n",
      "[(',', -2.131595505653239), ('thing', -2.2931620779952517), ('where', -2.805213123849642), ('the', -2.957860085869676), ('he', -3.2527969089656104)]\n",
      "Lowest\n",
      "[('most', -7.9557218368274984), ('house', -8.122775921490664), ('they', -8.911233281854935), ('light', -9.60438046241488), ('once', -11.906965555408926)]\n",
      "HPL\n",
      "Highest Log prob\n",
      "[('thing', -2.250415344817034), (',', -2.4926255587205084), ('he', -2.834167721975522), ('where', -2.876363836096308), ('the', -2.9004238456752507)]\n",
      "Lowest\n",
      "[('three', -7.994699762782565), ('come', -8.777459102032196), ('will', -8.910990494656719), ('most', -9.470606282592142), ('once', -10.451435535603869)]\n",
      "MWS\n",
      "Highest Log prob\n",
      "[(',', -2.3123414291337845), ('thing', -2.533287496303963), ('where', -2.986575127557769), ('he', -2.9890219112594956), ('the', -3.0583298040129883)]\n",
      "Lowest\n",
      "[('love', -7.880187966248355), ('death', -7.924639728819189), ('know', -8.412992496733121), ('few', -8.412992496733121), ('day', -11.70882936273745)]\n"
     ]
    }
   ],
   "source": [
    "common_words = first_n_most_frequent_tokens(n)\n",
    "log_prob = dict(zip(model.classes_,\n",
    "             map(lambda xs: list(sorted(zip(common_words, xs),\n",
    "                                 key=lambda x: x[1], reverse=True)),\n",
    "                 model.feature_log_prob_)))\n",
    "\n",
    "for w in writers:\n",
    "    print(w)\n",
    "    print('Highest Log prob')\n",
    "    print(log_prob[w][:5])\n",
    "    print('Lowest')\n",
    "    print(log_prob[w][-5:])"
   ]
  },
  {
   "cell_type": "markdown",
   "metadata": {},
   "source": [
    "###  Enhance Features with Statistics\n",
    "Add to the above frequencies of common words the following statistics\n",
    " * sentence length\n",
    " \n",
    "The stastistics alone has predictive power. Find a ways for incorporation into above model approaches."
   ]
  },
  {
   "cell_type": "code",
   "execution_count": 102,
   "metadata": {},
   "outputs": [
    {
     "data": {
      "text/plain": [
       "{'in-sample-precision': 0.40349353899586293,\n",
       " 'out-of-sample-precision': 0.4034935578860775}"
      ]
     },
     "execution_count": 102,
     "metadata": {},
     "output_type": "execute_result"
    }
   ],
   "source": [
    "sentence_lengths = np.array(list(map(len, d.tokens))).reshape(-1, 1)\n",
    "classifier_assessment(MultinomialNB(), sentence_lengths, Y)"
   ]
  },
  {
   "cell_type": "code",
   "execution_count": 103,
   "metadata": {},
   "outputs": [
    {
     "data": {
      "text/plain": [
       "scipy.sparse.csr.csr_matrix"
      ]
     },
     "execution_count": 103,
     "metadata": {},
     "output_type": "execute_result"
    }
   ],
   "source": [
    "#X = frequencies_in_tokens(d.tokens, first_n_most_frequent_tokens(n))\n",
    "type(X)"
   ]
  },
  {
   "cell_type": "markdown",
   "metadata": {},
   "source": [
    "##  Questions\n",
    " * Why does the usual tf-idf approach not work for author attribution?\n",
    " * Explain why the in-sample and ou-of-sample error for random forest are so significant"
   ]
  },
  {
   "cell_type": "markdown",
   "metadata": {},
   "source": [
    "## Outlook\n",
    "\n",
    "Character Level\n",
    " * n-grams \n",
    "   * eg. 3-grams |No_| |o_o| |_on| |one|\n",
    " * punctuation\n",
    "   * eg. frequency of commas, semicolons, periods, quotation-marks\n",
    "\n",
    "Lexical Level\n",
    " * word occurences\n",
    "   * frequences\n",
    "   * indicators\n",
    " * word n-grams\n",
    "\n",
    "Syntactical Level\n",
    " * part of speech\n",
    "   word classes as lexical items: noun, verb, adjective, adverb, pronoun, preposition, conjunction, interjection, numeral, article, determiner\n",
    " * part of sentence\n",
    "   consituents as lexical items: subject, predicate, direct/indirect object, modifier, abvervial,\n",
    " * sentence \n",
    "\n",
    "Semantic\n",
    " *\n"
   ]
  },
  {
   "cell_type": "code",
   "execution_count": 104,
   "metadata": {},
   "outputs": [],
   "source": [
    "# In the above multinomial model the use of common words in a sentence happens in the following way\n",
    "# A writer y picks a common words x_j with probability p_j\n",
    "#  \n",
    "# https://github.com/scikit-learn/scikit-learn/blob/55bf5d9/sklearn/naive_bayes.py#L630"
   ]
  }
 ],
 "metadata": {
  "kernelspec": {
   "display_name": "Python 3",
   "language": "python",
   "name": "python3"
  },
  "language_info": {
   "codemirror_mode": {
    "name": "ipython",
    "version": 3
   },
   "file_extension": ".py",
   "mimetype": "text/x-python",
   "name": "python",
   "nbconvert_exporter": "python",
   "pygments_lexer": "ipython3",
   "version": "3.7.1"
  }
 },
 "nbformat": 4,
 "nbformat_minor": 2
}
