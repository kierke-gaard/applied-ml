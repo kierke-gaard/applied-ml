{
 "cells": [
  {
   "cell_type": "code",
   "execution_count": 177,
   "metadata": {},
   "outputs": [],
   "source": [
    "%matplotlib inline"
   ]
  },
  {
   "cell_type": "markdown",
   "metadata": {},
   "source": [
    "## Import"
   ]
  },
  {
   "cell_type": "code",
   "execution_count": 178,
   "metadata": {},
   "outputs": [],
   "source": [
    "import pandas as pd\n",
    "import sklearn as sl\n",
    "d = pd.read_csv('c:\\\\dev\\\\bike\\\\data\\\\hour.csv')"
   ]
  },
  {
   "cell_type": "markdown",
   "metadata": {},
   "source": [
    "## Attribute Selection\n",
    "Manual given the tiny set of attributes"
   ]
  },
  {
   "cell_type": "markdown",
   "metadata": {},
   "source": [
    "### Remove"
   ]
  },
  {
   "cell_type": "code",
   "execution_count": 179,
   "metadata": {},
   "outputs": [],
   "source": [
    "irrelevant_attributes = ['instant', # detached\n",
    "                         'dteday', # mostly redundant\n",
    "                         'holiday', # redundant\n",
    "                         'casual', 'registered' # not in scope\n",
    "                        ]\n",
    "attributes = [a for a in d.columns if a not in irrelevant_attributes]"
   ]
  },
  {
   "cell_type": "markdown",
   "metadata": {},
   "source": [
    "## Attribute Transformations\n",
    "Considering the trade-offs between\n",
    " * loss of topology\n",
    " * inflation of dimension\n",
    " * Prevention of accidental information creation"
   ]
  },
  {
   "cell_type": "markdown",
   "metadata": {},
   "source": [
    "### Indicators"
   ]
  },
  {
   "cell_type": "code",
   "execution_count": 180,
   "metadata": {},
   "outputs": [
    {
     "name": "stdout",
     "output_type": "stream",
     "text": [
      "Attributes after one hot inflation:  12 \n",
      " ['season', 'yr', 'mnth', 'hr', 'weekday', 'workingday', 'weathersit', 'temp', 'atemp', 'hum', 'windspeed', 'cnt']\n"
     ]
    }
   ],
   "source": [
    "one_hot_attributes = []#['season', 'weekday', 'mnth'] #loosing topology, moderate dimension inflation\n",
    "data = pd.get_dummies(d[attributes],columns=one_hot_attributes)\n",
    "print(\"Attributes after one hot inflation: \", len(list(data.columns.values)), \"\\n\", list(data.columns.values))"
   ]
  },
  {
   "cell_type": "markdown",
   "metadata": {},
   "source": [
    "### Cyclical"
   ]
  },
  {
   "cell_type": "code",
   "execution_count": 181,
   "metadata": {},
   "outputs": [],
   "source": [
    "cycle_attributes = ['weekday', 'mnth']\n",
    "import math\n",
    "# 'hr' is cyclic, but the cut at 0:00 does not hurt\n",
    "complex_trafo = lambda x, period : [sin(2*math.pi/period*x), cos(2*math.pi/period*x)]\n",
    "cycle_preserving_transformation = {'weekday': lambda x: complex_trafo(x,7),\n",
    "                                   'mnth': lambda x: complex_trafo(x,12)}"
   ]
  },
  {
   "cell_type": "markdown",
   "metadata": {},
   "source": [
    "### Non-Linearities\n",
    "Reflecting apparent non-linear impact. Render to standard normal distribution"
   ]
  },
  {
   "cell_type": "code",
   "execution_count": 182,
   "metadata": {},
   "outputs": [],
   "source": [
    " #log_attributes = ['weathersit', 'temp', 'atemp', 'hum', 'windspeed', 'cnt'] #?"
   ]
  },
  {
   "cell_type": "markdown",
   "metadata": {},
   "source": [
    "# Model\n",
    "Rational:\n",
    "1. Next best choice of linear model is probably not suitable because of univariate non-monotonicities\n",
    "\n",
    "## Data"
   ]
  },
  {
   "cell_type": "code",
   "execution_count": 183,
   "metadata": {},
   "outputs": [
    {
     "name": "stdout",
     "output_type": "stream",
     "text": [
      "features ['season', 'yr', 'mnth', 'hr', 'weekday', 'workingday', 'weathersit', 'temp', 'atemp', 'hum', 'windspeed']\n",
      "dimension of model input X (17379, 11) float64\n",
      "dimension of model output Y (17379,) int64\n"
     ]
    }
   ],
   "source": [
    "target = 'cnt'\n",
    "features = [a for a in data.columns.values if a!=target]\n",
    "\n",
    "X, Y = sl.utils.shuffle(data[features].values, data[target].values)\n",
    "#lm_ridge = linear_model.Ridge(alpha= .3)\n",
    "print('features', features)\n",
    "print('dimension of model input X', X.shape, X.dtype)\n",
    "print('dimension of model output Y', Y.shape, Y.dtype)"
   ]
  },
  {
   "cell_type": "markdown",
   "metadata": {},
   "source": [
    "### Linear Model Ridge Regularisation"
   ]
  },
  {
   "cell_type": "code",
   "execution_count": 184,
   "metadata": {},
   "outputs": [
    {
     "name": "stdout",
     "output_type": "stream",
     "text": [
      "alpha 0.1\n"
     ]
    }
   ],
   "source": [
    "from sklearn import linear_model\n",
    "lm_ridge = linear_model.RidgeCV(alphas =[0.01, 0.1, 10., 50., 100., 500., 1000.], cv=20)\n",
    "lm_ridge.fit(X,Y)\n",
    "print(\"alpha\", lm_ridge.alpha_)"
   ]
  },
  {
   "cell_type": "markdown",
   "metadata": {},
   "source": [
    "####  In-Sample Error"
   ]
  },
  {
   "cell_type": "code",
   "execution_count": 185,
   "metadata": {},
   "outputs": [
    {
     "name": "stdout",
     "output_type": "stream",
     "text": [
      "linear model candidate sum of coeffs 671.7352182088563 \n",
      "mean 104.38093231460428 \n",
      "median 81.02464517306345\n"
     ]
    }
   ],
   "source": [
    "from sklearn.metrics import mean_squared_error, mean_absolute_error, median_absolute_error\n",
    "import numpy as np\n",
    "lm_ridge_candidate = linear_model.Ridge(alpha = lm_ridge.alpha_)\n",
    "lm_ridge_candidate.fit(X,Y)\n",
    "Y_predicted = np.array([max(x, 0) for x in lm_ridge_candidate.predict(X)])\n",
    "print('linear model candidate sum of coeffs', sum(abs(lm_ridge_candidate.coef_)),\n",
    "      '\\nmean', mean_absolute_error(Y_predicted, Y),\n",
    "      '\\nmedian', median_absolute_error(Y_predicted, Y))"
   ]
  },
  {
   "cell_type": "code",
   "execution_count": 245,
   "metadata": {},
   "outputs": [
    {
     "name": "stdout",
     "output_type": "stream",
     "text": [
      "Ridge(alpha=0.1, copy_X=True, fit_intercept=True, max_iter=None,\n",
      "   normalize=False, random_state=None, solver='auto', tol=0.001)\n",
      " In sample errors\n",
      "    mean 105.96040158795562 \n",
      "    median 82.32528611349088\n",
      " Out of sample errors\n",
      "    cv mean: 106.0404078324971 \n",
      "    cv mean std  2.1133119551498116\n"
     ]
    },
    {
     "data": {
      "text/plain": [
       "106.0404078324971"
      ]
     },
     "execution_count": 245,
     "metadata": {},
     "output_type": "execute_result"
    }
   ],
   "source": [
    "model_assessment(lm_ridge_candidate)"
   ]
  },
  {
   "cell_type": "markdown",
   "metadata": {},
   "source": [
    "#### Out-of-Sample Error"
   ]
  },
  {
   "cell_type": "code",
   "execution_count": 197,
   "metadata": {},
   "outputs": [
    {
     "name": "stdout",
     "output_type": "stream",
     "text": [
      "cv mean 106.0404078324971 cv std 2.1133119551498116\n"
     ]
    }
   ],
   "source": [
    "from sklearn.model_selection import cross_val_score\n",
    "scores = cross_val_score(lm_ridge_candidate, X, Y, cv=10,\n",
    "                         scoring= 'neg_mean_absolute_error'\n",
    "                         #'neg_mean_squared_error'\n",
    "                        )\n",
    "print('cv mean', abs(scores.mean()), 'cv std', scores.std())"
   ]
  },
  {
   "cell_type": "markdown",
   "metadata": {},
   "source": [
    "## Gradient Boost Trees\n",
    "To overcome shortcomings of the linear models"
   ]
  },
  {
   "cell_type": "code",
   "execution_count": 244,
   "metadata": {},
   "outputs": [],
   "source": [
    "def model_assessment(model):\n",
    "    print(model)\n",
    "    model.fit(X,Y)\n",
    "    Y_p = model.predict(X)\n",
    "    print(' In sample errors\\n    mean', mean_absolute_error(Y_p, Y),\n",
    "          '\\n    median', median_absolute_error(Y_p, Y))\n",
    "    scores = cross_val_score(model, X, Y, cv=10, scoring= 'neg_mean_absolute_error')\n",
    "    print(' Out of sample errors\\n    cv mean:', abs(scores.mean()),\n",
    "          '\\n    cv mean std ', scores.std())\n",
    "    return abs(scores.mean())   "
   ]
  },
  {
   "cell_type": "code",
   "execution_count": 218,
   "metadata": {},
   "outputs": [
    {
     "name": "stdout",
     "output_type": "stream",
     "text": [
      "In sample errors\n",
      " mean 17.2443776611647 \n",
      " median 10.357995229695291\n",
      "Out of sample errors\n",
      " cv mean: 23.9045304774899 \n",
      " std  0.8304861943273393\n"
     ]
    }
   ],
   "source": [
    "# An manual search through the hyper-parameter space lead to the following settings: (GridSearchCV)\n",
    "n_estimators= 150\n",
    "max_depth = 7\n",
    "treeBooster = sl.ensemble.GradientBoostingRegressor(n_estimators= n_estimators, max_depth = max_depth)\n",
    "model_assement(treeBooster)"
   ]
  },
  {
   "cell_type": "markdown",
   "metadata": {},
   "source": [
    "###  Desciption of the model candidate"
   ]
  },
  {
   "cell_type": "code",
   "execution_count": 231,
   "metadata": {},
   "outputs": [
    {
     "name": "stdout",
     "output_type": "stream",
     "text": [
      "mean error 22.82904522888623\n"
     ]
    },
    {
     "data": {
      "image/png": "[encoded data removed]",
      "text/plain": [
       "<Figure size 432x288 with 1 Axes>"
      ]
     },
     "metadata": {
      "needs_background": "light"
     },
     "output_type": "display_data"
    }
   ],
   "source": [
    "import matplotlib.pyplot as plt\n",
    "n = round(.1 * len(Y))\n",
    "X_train, Y_train, X_test, Y_test = X[n:], Y[n:], X[:n], Y[:n]\n",
    "treeBooster_test = sl.ensemble.GradientBoostingRegressor(n_estimators= n_estimators, max_depth = max_depth)\n",
    "treeBooster_test.fit(X_train, Y_train)\n",
    "Y_predict_test = treeBooster_test.predict(X_test)\n",
    "p = Y_test.argsort()\n",
    "plt.plot(Y_test[p], Y_predict_test[p],'r.', Y_test[p], Y_test[p], 'b');\n",
    "plt.title('Observation versus Model Prediction out of sample'); plt.xlabel('Observed Rental counts'); plt.ylabel('Predicted');\n",
    "print(\"mean error\", mean_absolute_error(Y_test, Y_predict_test))"
   ]
  },
  {
   "cell_type": "code",
   "execution_count": 233,
   "metadata": {},
   "outputs": [
    {
     "data": {
      "image/png": "[encoded data removed]",
      "text/plain": [
       "<Figure size 432x288 with 1 Axes>"
      ]
     },
     "metadata": {
      "needs_background": "light"
     },
     "output_type": "display_data"
    }
   ],
   "source": [
    "plt.barh(features, treeBooster.feature_importances_); plt.title('Importance of Features'); plt.xlabel('Relative Importance');"
   ]
  },
  {
   "cell_type": "code",
   "execution_count": 253,
   "metadata": {},
   "outputs": [
    {
     "data": {
      "text/plain": [
       "'first tree.pdf'"
      ]
     },
     "execution_count": 253,
     "metadata": {},
     "output_type": "execute_result"
    }
   ],
   "source": [
    "import graphviz\n",
    "first_tree = treeBooster.estimators_[0,0]\n",
    "dot_data = sl.tree.export_graphviz(first_tree, filled=True, rounded=True, proportion=True, out_file=None)\n",
    "graph = graphviz.Source(dot_data)\n",
    "graph.render('first tree')"
   ]
  },
  {
   "cell_type": "code",
   "execution_count": 257,
   "metadata": {},
   "outputs": [
    {
     "name": "stdout",
     "output_type": "stream",
     "text": [
      "MLPRegressor(activation='relu', alpha=0.0001, batch_size='auto', beta_1=0.9,\n",
      "       beta_2=0.999, early_stopping=False, epsilon=1e-08,\n",
      "       hidden_layer_sizes=(30, 10), learning_rate='constant',\n",
      "       learning_rate_init=0.001, max_iter=1000, momentum=0.9,\n",
      "       nesterovs_momentum=True, power_t=0.5, random_state=None,\n",
      "       shuffle=True, solver='adam', tol=0.0001, validation_fraction=0.1,\n",
      "       verbose=False, warm_start=False)\n",
      " In sample errors\n",
      "    mean 56.3485478775133 \n",
      "    median 34.31989270110073\n",
      " Out of sample errors\n",
      "    cv mean: 58.713353422363674 \n",
      "    cv mean std  9.918831842725382\n"
     ]
    },
    {
     "data": {
      "text/plain": [
       "58.713353422363674"
      ]
     },
     "execution_count": 257,
     "metadata": {},
     "output_type": "execute_result"
    }
   ],
   "source": [
    "from sklearn.neural_network import MLPRegressor\n",
    "nn = MLPRegressor(hidden_layer_sizes=(30,10), max_iter=1000)\n",
    "model_assessment(nn)"
   ]
  },
  {
   "cell_type": "code",
   "execution_count": 264,
   "metadata": {},
   "outputs": [
    {
     "name": "stdout",
     "output_type": "stream",
     "text": [
      "KNeighborsRegressor(algorithm='auto', leaf_size=30, metric='minkowski',\n",
      "          metric_params=None, n_jobs=1, n_neighbors=30, p=2,\n",
      "          weights='distance')\n",
      " In sample errors\n",
      "    mean 0.012313711951205479 \n",
      "    median 0.0\n",
      " Out of sample errors\n",
      "    cv mean: 37.17356580485521 \n",
      "    cv mean std  1.0493798111664137\n"
     ]
    },
    {
     "data": {
      "text/plain": [
       "37.17356580485521"
      ]
     },
     "execution_count": 264,
     "metadata": {},
     "output_type": "execute_result"
    }
   ],
   "source": [
    "nn = sl.neighbors.KNeighborsRegressor(n_neighbors=30, weights='distance')\n",
    "model_assessment(nn)"
   ]
  },
  {
   "cell_type": "code",
   "execution_count": 267,
   "metadata": {},
   "outputs": [
    {
     "name": "stdout",
     "output_type": "stream",
     "text": [
      "KernelRidge(alpha=1, coef0=1, degree=3, gamma=None, kernel='rbf',\n",
      "      kernel_params=None)\n",
      " In sample errors\n",
      "    mean 33.142217435588975 \n",
      "    median 19.548329461903307\n",
      " Out of sample errors\n",
      "    cv mean: 34.924247185774874 \n",
      "    cv mean std  0.8281990492590274\n"
     ]
    },
    {
     "data": {
      "text/plain": [
       "34.924247185774874"
      ]
     },
     "execution_count": 267,
     "metadata": {},
     "output_type": "execute_result"
    }
   ],
   "source": [
    "from sklearn.kernel_ridge import KernelRidge\n",
    "kr=KernelRidge(kernel='rbf')\n",
    "model_assessment(kr)"
   ]
  },
  {
   "cell_type": "code",
   "execution_count": 269,
   "metadata": {},
   "outputs": [
    {
     "data": {
      "text/plain": [
       "189.46308763450142"
      ]
     },
     "execution_count": 269,
     "metadata": {},
     "output_type": "execute_result"
    }
   ],
   "source": [
    "np.mean(Y)"
   ]
  },
  {
   "cell_type": "code",
   "execution_count": null,
   "metadata": {},
   "outputs": [],
   "source": []
  }
 ],
 "metadata": {
  "kernelspec": {
   "display_name": "Python 3",
   "language": "python",
   "name": "python3"
  },
  "language_info": {
   "codemirror_mode": {
    "name": "ipython",
    "version": 3
   },
   "file_extension": ".py",
   "mimetype": "text/x-python",
   "name": "python",
   "nbconvert_exporter": "python",
   "pygments_lexer": "ipython3",
   "version": "3.7.0"
  }
 },
 "nbformat": 4,
 "nbformat_minor": 2
}
