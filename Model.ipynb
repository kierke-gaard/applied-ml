{
 "cells": [
  {
   "cell_type": "markdown",
   "metadata": {},
   "source": [
    "# Modells zur Vorhersage von Leihfahrradmieten\n",
    "\n",
    "## Beschreibung des Anwendungsfalls\n",
    "Der Nutznießer des Modells möchte die Nachfrage nach Leihrädern kurzfirstig abschätzen können mit Hilfe der Wettervorhersage.\n",
    "## Deskriptive Analyse der Daten\n",
    "Die Daten erhalten keine Überraschungen. Der Grad an Vorverarbeitung ist so hoch, das ML-Verfahren direkt angewandt werden könnten. Für weiteres siehe *exploration.htlm*.\n",
    "\n",
    "## Das Modell\n",
    "Das Modell liefert für Wetter- und Kalenderdaten eine Prognose für die zu erwartende Nachfrage in Anzahl von Mieten je Stunde, genauer: \n",
    "\n",
    "$$(season, yr, mnth, hr, weekday, workingday, weathersit, temp, atemp, hum, windspeed)\n",
    " \\longrightarrow cnt$$\n",
    " \n",
    "Kalibriert wurde es an dem gesamten Datenbestand der Jahre 2012 und 2013. Als Modellklasse wurde ein *Ensemble von additiven Entscheidungsbäumen* gewählt. Über die bereits im Datensatz getätigten Vorverarbeitungsschritte finden keine mehr statt, dh. das Modell wird auf direkt auf die Rohdaten angewandt.\n",
    "\n",
    "Für weitere Modelleigenschaften siehe *model_selection.html*\n",
    "## Gründe für die Modellwahl\n",
    "Additive Entscheidungsbäume sind zunächst eine natürliche Wahl für flache strukturierte Lernprobleme mit kategorischen und numerischen Daten, da sie sich für viele natürliche Verteilungen schon als wirkungsvoll gezeigt haben (siehe zum Beispiel Kaggle). Weitere Gründe für diesen Modelltyp:\n",
    "* Geringe Anforderungen an das Präprozessieren\n",
    "* Die andere naheliegende Wahl eines linearen Modells eignet sich ohne vorherige Attributtransformationen aufgrund der univariaten Nonmonotinien nicht.\n",
    "* In der Regel robust gegenüber Ausreißern\n",
    "* Skalierbar\n",
    "* Häufig umempfindlich gegenüber irrelevanten Attributen und Rauschen\n",
    "\n",
    "Die Experiemente an den Daten zeigen einen absoluten Modellfehler von im Schnitt 23 bis 24 Mieten unter geringer Fehlervarianz. Im Vergleich dazu beträgt die durchschnittlich Anzahl von Mieten zwischen in der Hauptleihzeit zwischen 7 und 21 Uhr etwa 270 bis 280.\n",
    "Für weiteres siehe *model_selection.html*.\n",
    "\n",
    "Bewusst nimmt man folgende Nachteile des Modells in Kauf\n",
    "* Ohne weiteres ist es nicht einfach zu interpretieren und zu erklären\n",
    "\n",
    "## Möglichkeiten der Verbesserung\n",
    "* separate Modelle für reguläre und gelegentiliche Nutzung erstellen, da diese Nutzungstypen unterschiedlich sind.\n",
    "* In der Vorverarbeitung die Topologie von zyklischen Attributen erhalten (ohne versehentlich neue Strukturen hinzuzufügen)\n",
    "* explizit Modellieren\n",
    "* Andere vielversprechende Modellklassen anstesten, etwa  Kernverfahren mit Bestrafungsterm (KernelRidge)\n",
    "* Hyperparamenter optimieren\n",
    "* Etwaige Verlustfunktional des Anwendunsfalls direkt in die Parameter- und Hyperparameteroptimierung einbeziegen.\n",
    "* Hyperparameterauswahl unverzerrt gegen einen Validierungssatz bewerten"
   ]
  }
 ],
 "metadata": {
  "kernelspec": {
   "display_name": "Python 3",
   "language": "python",
   "name": "python3"
  },
  "language_info": {
   "codemirror_mode": {
    "name": "ipython",
    "version": 3
   },
   "file_extension": ".py",
   "mimetype": "text/x-python",
   "name": "python",
   "nbconvert_exporter": "python",
   "pygments_lexer": "ipython3",
   "version": "3.7.0"
  }
 },
 "nbformat": 4,
 "nbformat_minor": 2
}
